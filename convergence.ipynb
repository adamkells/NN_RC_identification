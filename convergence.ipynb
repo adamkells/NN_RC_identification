{
 "cells": [
  {
   "cell_type": "markdown",
   "metadata": {},
   "source": [
    "# Testing convergence of probability estimates"
   ]
  },
  {
   "cell_type": "code",
   "execution_count": 1,
   "metadata": {},
   "outputs": [],
   "source": [
    "# import whatever libraries I want\n",
    "import numpy as np\n",
    "import stokepy as sp"
   ]
  },
  {
   "cell_type": "markdown",
   "metadata": {},
   "source": [
    "## First I want to declare my Markov chain\n",
    "\n",
    "I want to have the option for either a small user-defined chain or a large chain that describes a given potential."
   ]
  },
  {
   "cell_type": "code",
   "execution_count": 13,
   "metadata": {},
   "outputs": [],
   "source": [
    "# instantiate class\n",
    "fmc = sp.FiniteMarkovChain()\n",
    "\n",
    "# create initial distribution vector\n",
    "phi = np.array([0, 0, 1, 0, 0])\n",
    "\n",
    "# generate Markov chain with no boundary conditions\n",
    "fmc.gen_from_params(phi, p = 0.6, num_states = 5, dim = 1)\n",
    "\n",
    "# apply boundary condition: absorbing, reflecting, semi-reflecting\n",
    "# only works for 1 dimension Markov chains at the moment\n",
    "fmc.apply_boundary_condition(condition='reflecting')"
   ]
  },
  {
   "cell_type": "code",
   "execution_count": 12,
   "metadata": {},
   "outputs": [
    {
     "data": {
      "text/plain": [
       "<stokepy.finite_markov_chain.FiniteMarkovChain at 0x7f6ed044a908>"
      ]
     },
     "execution_count": 12,
     "metadata": {},
     "output_type": "execute_result"
    }
   ],
   "source": []
  },
  {
   "cell_type": "code",
   "execution_count": null,
   "metadata": {},
   "outputs": [],
   "source": []
  }
 ],
 "metadata": {
  "kernelspec": {
   "display_name": "Python 3",
   "language": "python",
   "name": "python3"
  },
  "language_info": {
   "codemirror_mode": {
    "name": "ipython",
    "version": 3
   },
   "file_extension": ".py",
   "mimetype": "text/x-python",
   "name": "python",
   "nbconvert_exporter": "python",
   "pygments_lexer": "ipython3",
   "version": "3.6.6+"
  }
 },
 "nbformat": 4,
 "nbformat_minor": 2
}
