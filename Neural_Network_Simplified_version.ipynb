{
 "cells": [
  {
   "cell_type": "markdown",
   "metadata": {},
   "source": [
    "# Importing the modules"
   ]
  },
  {
   "cell_type": "code",
   "execution_count": 2,
   "metadata": {},
   "outputs": [],
   "source": [
    "import numpy as np \n",
    "import matplotlib.pyplot as plt\n",
    "import pandas as pd\n",
    "import scipy\n",
    "import pickle"
   ]
  },
  {
   "cell_type": "markdown",
   "metadata": {},
   "source": [
    "# Loading Datasets"
   ]
  },
  {
   "cell_type": "code",
   "execution_count": null,
   "metadata": {},
   "outputs": [],
   "source": [
    "#LOAD OR GENERATE YOUR DATA"
   ]
  },
  {
   "cell_type": "markdown",
   "metadata": {},
   "source": [
    "# Basic Neural Network"
   ]
  },
  {
   "cell_type": "code",
   "execution_count": null,
   "metadata": {},
   "outputs": [],
   "source": [
    "%%time  #For timing it\n",
    "\n",
    "#Neural Network specific modules\n",
    "from sklearn.neural_network import MLPClassifier\n",
    "from sklearn.model_selection import train_test_split\n",
    "\n",
    "#Describing the operator - Shuffle True or False Mixes the data when training\n",
    "\n",
    "mlp = MLPClassifier(max_iter=200, shuffle=True)\n",
    "\n",
    "X = your_data #Remember it has to be (n_samples,n_features)\n",
    "\n",
    "y = your_answers #It can be either (n_samples) or (n_samples,n_outputs) I did the first option\n",
    "\n",
    "#Train/Test Split\n",
    "\n",
    "X_train, X_test, y_train, y_test = train_test_split(X, y, test_size=0.4)\n",
    "\n",
    "#Training the Neural Network\n",
    "\n",
    "neural_network = mlp.fit(X_train,y_train) \n",
    "\n",
    "#Do the predictions for the X_test\n",
    "\n",
    "y_predicted = neural_network.predict(X_test)\n",
    "\n",
    "#The results are the difference between the y_test set and the final prediction\n",
    "\n",
    "results = y_test == y_predicted\n"
   ]
  },
  {
   "cell_type": "markdown",
   "metadata": {},
   "source": [
    "# Testing different amount of data"
   ]
  },
  {
   "cell_type": "code",
   "execution_count": null,
   "metadata": {},
   "outputs": [],
   "source": [
    "%%time  #For timing it\n",
    "\n",
    "#Neural Network specific modules\n",
    "from sklearn.neural_network import MLPClassifier\n",
    "from sklearn.model_selection import train_test_split\n",
    "\n",
    "#Describing the operator - Shuffle True or False Mixes the data when training\n",
    "\n",
    "mlp = MLPClassifier(max_iter=200, shuffle=True)\n",
    "\n",
    "# This is the range of data to test, each fraction is an amount\n",
    "\n",
    "range_pretty = [0.1,0.2,0.3,0.5,0.6,0.8,0.9,1] \n",
    "\n",
    "for size in range_pretty:\n",
    "    \n",
    "    data_temp = []\n",
    "\n",
    "    answer_temp = []\n",
    "    \n",
    "    #Here I am creating an array the size of the data to fill it.\n",
    "    #The answers template its filled with ZEROS to fill in with the answers. \n",
    "        \n",
    "    template = np.zeros(int(len(np.vstack(data_set2))*250000*size))\n",
    "\n",
    "    template = template.astype(str)\n",
    "\n",
    "    counter = 0\n",
    "\n",
    "    #Here I am filling the answers for each\n",
    "    \n",
    "    for l,s in zip(data_set,answer_set):\n",
    "    \n",
    "        counter += 1\n",
    "    \n",
    "        data_temp.append(np.vstack(data_set2[l][:int(250000*size)]))\n",
    "    \n",
    "        for i in range((int((250000*(counter-1))*size)),int((250000*counter)*size)):\n",
    "        \n",
    "            template[i] = s\n",
    "    \n",
    "    #I Re-Do the data arrangement to (n_frames, n_features)\n",
    "    \n",
    "    X = np.vstack(data_temp)\n",
    "    \n",
    "    #The answers are (n_frames) The answer is in each frame\n",
    "\n",
    "    y = np.concatenate((template))\n",
    "    \n",
    "    total_size = len(X)\n",
    "    \n",
    "    #Here I do the test/train set splitting, which is done randomly\n",
    "    \n",
    "    X_train, X_test, y_train, y_test = train_test_split(X, y, test_size=.4)\n",
    "    \n",
    "    del(X) #Deletion for space optimization\n",
    "    del(y) #Deletion for space optimization\n",
    "    \n",
    "    #This step is the actual training\n",
    "    \n",
    "    neural_network_1 = mlp.fit(X_train,y_train) \n",
    "    \n",
    "    #This step is the prediction of the neural network for the given X_test\n",
    "    \n",
    "    y_predicted = neural_network_1.predict(X_test)\n",
    "    \n",
    "    #I append the results in an array \n",
    "\n",
    "    results = y_test == y_predicted \n",
    "\n",
    "    \n",
    "    #I tell the NN to give me the summary of the results and append them to the final results\n",
    "    print('Approximation to the test set =',results.mean()*100,'%')\n",
    "    print('Test Size =', len(results), 'Values')\n",
    "    print('Total Size of Data =', total_size, 'Values')\n",
    "    \n",
    "    result_all.append(100 - results.mean()*100)\n"
   ]
  },
  {
   "cell_type": "markdown",
   "metadata": {},
   "source": [
    "# Plot of the results"
   ]
  },
  {
   "cell_type": "code",
   "execution_count": null,
   "metadata": {},
   "outputs": [],
   "source": [
    "range_pretty = [0.1,0.2,0.3,0.5,0.6,0.8,0.9,1]\n",
    "plt.figure()\n",
    "plt.plot(range_pretty, result_all, '-o')\n",
    "plt.title(\"Data Training\")\n",
    "plt.xlabel(\"Amount of data\")\n",
    "plt.ylabel(\"Errors\")"
   ]
  },
  {
   "cell_type": "markdown",
   "metadata": {},
   "source": [
    "# Saving your trained model"
   ]
  },
  {
   "cell_type": "code",
   "execution_count": null,
   "metadata": {},
   "outputs": [],
   "source": [
    "#If you want to save your trained model so you can use it later, \n",
    "#You need to pickle it and load it later with every module\n",
    "\n",
    "your_network = neural_network\n",
    "\n",
    "pickle.dump(neural_network, open(\"NN.nn\", 'wb'))\n"
   ]
  },
  {
   "cell_type": "markdown",
   "metadata": {},
   "source": [
    "# Loading it back"
   ]
  },
  {
   "cell_type": "code",
   "execution_count": null,
   "metadata": {},
   "outputs": [],
   "source": [
    "your_netwrok = pickle.load(neural_network, open(\"NN.nn\", 'rb'))"
   ]
  }
 ],
 "metadata": {
  "kernelspec": {
   "display_name": "Python 3",
   "language": "python",
   "name": "python3"
  },
  "language_info": {
   "codemirror_mode": {
    "name": "ipython",
    "version": 3
   },
   "file_extension": ".py",
   "mimetype": "text/x-python",
   "name": "python",
   "nbconvert_exporter": "python",
   "pygments_lexer": "ipython3",
   "version": "3.6.6"
  }
 },
 "nbformat": 4,
 "nbformat_minor": 2
}
