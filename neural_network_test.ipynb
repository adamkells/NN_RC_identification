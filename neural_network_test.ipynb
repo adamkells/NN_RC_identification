{
 "cells": [
  {
   "cell_type": "markdown",
   "metadata": {},
   "source": [
    "# Load Python libraries"
   ]
  },
  {
   "cell_type": "code",
   "execution_count": 1,
   "metadata": {},
   "outputs": [],
   "source": [
    "# import whatever libraries I want\n",
    "import numpy as np\n",
    "%matplotlib inline\n",
    "import matplotlib.pyplot as plt\n",
    "import msm_scripts as ms\n",
    "import test_system_generator as tsg\n",
    "import timeit"
   ]
  },
  {
   "cell_type": "markdown",
   "metadata": {},
   "source": [
    "# Generate data"
   ]
  },
  {
   "cell_type": "code",
   "execution_count": 13,
   "metadata": {},
   "outputs": [
    {
     "name": "stderr",
     "output_type": "stream",
     "text": [
      "/home/adam/anaconda3/lib/python3.6/site-packages/ipykernel_launcher.py:27: DeprecationWarning: object of type <class 'float'> cannot be safely interpreted as an integer.\n",
      "/home/adam/anaconda3/lib/python3.6/site-packages/ipykernel_launcher.py:29: DeprecationWarning: object of type <class 'float'> cannot be safely interpreted as an integer.\n"
     ]
    },
    {
     "name": "stdout",
     "output_type": "stream",
     "text": [
      "(Initialized a data set object containing 1 simulation of length 3622)\n",
      "(Initialized a data set object containing 1 simulation of length 3622)\n",
      "(Initialized a data set object containing 1 simulation of length 3622)\n",
      "(Initialized a data set object containing 1 simulation of length 2073)\n",
      "(Initialized a data set object containing 1 simulation of length 2073)\n",
      "(Initialized a data set object containing 1 simulation of length 2073)\n",
      "(Initialized a data set object containing 1 simulation of length 3242)\n",
      "(Initialized a data set object containing 1 simulation of length 3242)\n",
      "(Initialized a data set object containing 1 simulation of length 3242)\n",
      "(Initialized a data set object containing 1 simulation of length 23275)\n",
      "(Initialized a data set object containing 1 simulation of length 23275)\n",
      "(Initialized a data set object containing 1 simulation of length 23275)\n",
      "(Initialized a data set object containing 1 simulation of length 8090)\n",
      "(Initialized a data set object containing 1 simulation of length 8090)\n",
      "(Initialized a data set object containing 1 simulation of length 8090)\n",
      "(Initialized a data set object containing 1 simulation of length 9941)\n",
      "(Initialized a data set object containing 1 simulation of length 9941)\n",
      "(Initialized a data set object containing 1 simulation of length 9941)\n",
      "(Initialized a data set object containing 1 simulation of length 13365)\n",
      "(Initialized a data set object containing 1 simulation of length 13365)\n",
      "(Initialized a data set object containing 1 simulation of length 13365)\n",
      "(Initialized a data set object containing 1 simulation of length 6658)\n",
      "(Initialized a data set object containing 1 simulation of length 6658)\n",
      "(Initialized a data set object containing 1 simulation of length 6658)\n",
      "(Initialized a data set object containing 1 simulation of length 3793)\n",
      "(Initialized a data set object containing 1 simulation of length 3793)\n",
      "(Initialized a data set object containing 1 simulation of length 3793)\n",
      "(Initialized a data set object containing 1 simulation of length 2011)\n",
      "(Initialized a data set object containing 1 simulation of length 2011)\n",
      "(Initialized a data set object containing 1 simulation of length 2011)\n",
      "(Initialized a data set object containing 1 simulation of length 3514)\n",
      "(Initialized a data set object containing 1 simulation of length 3514)\n",
      "(Initialized a data set object containing 1 simulation of length 3514)\n",
      "(Initialized a data set object containing 1 simulation of length 4284)\n",
      "(Initialized a data set object containing 1 simulation of length 4284)\n",
      "(Initialized a data set object containing 1 simulation of length 4284)\n",
      "(Initialized a data set object containing 1 simulation of length 3381)\n",
      "(Initialized a data set object containing 1 simulation of length 3381)\n",
      "(Initialized a data set object containing 1 simulation of length 3381)\n",
      "(Initialized a data set object containing 1 simulation of length 4170)\n",
      "(Initialized a data set object containing 1 simulation of length 4170)\n",
      "(Initialized a data set object containing 1 simulation of length 4170)\n",
      "(Initialized a data set object containing 1 simulation of length 3553)\n",
      "(Initialized a data set object containing 1 simulation of length 3553)\n",
      "(Initialized a data set object containing 1 simulation of length 3553)\n",
      "(Initialized a data set object containing 1 simulation of length 2910)\n",
      "(Initialized a data set object containing 1 simulation of length 2910)\n",
      "(Initialized a data set object containing 1 simulation of length 2910)\n",
      "(Initialized a data set object containing 1 simulation of length 6784)\n",
      "(Initialized a data set object containing 1 simulation of length 6784)\n",
      "(Initialized a data set object containing 1 simulation of length 6784)\n",
      "(Initialized a data set object containing 1 simulation of length 5785)\n",
      "(Initialized a data set object containing 1 simulation of length 5785)\n",
      "(Initialized a data set object containing 1 simulation of length 5785)\n",
      "(Initialized a data set object containing 1 simulation of length 15176)\n",
      "(Initialized a data set object containing 1 simulation of length 15176)\n",
      "(Initialized a data set object containing 1 simulation of length 15176)\n",
      "(Initialized a data set object containing 1 simulation of length 5226)\n",
      "(Initialized a data set object containing 1 simulation of length 5226)\n",
      "(Initialized a data set object containing 1 simulation of length 5226)\n",
      "(Initialized a data set object containing 1 simulation of length 4337)\n",
      "(Initialized a data set object containing 1 simulation of length 4337)\n",
      "(Initialized a data set object containing 1 simulation of length 4337)\n",
      "(Initialized a data set object containing 1 simulation of length 5647)\n",
      "(Initialized a data set object containing 1 simulation of length 5647)\n",
      "(Initialized a data set object containing 1 simulation of length 5647)\n",
      "(Initialized a data set object containing 1 simulation of length 2982)\n",
      "(Initialized a data set object containing 1 simulation of length 2982)\n",
      "(Initialized a data set object containing 1 simulation of length 2982)\n",
      "(Initialized a data set object containing 1 simulation of length 19920)\n",
      "(Initialized a data set object containing 1 simulation of length 19920)\n",
      "(Initialized a data set object containing 1 simulation of length 19920)\n",
      "(Initialized a data set object containing 1 simulation of length 9246)\n",
      "(Initialized a data set object containing 1 simulation of length 9246)\n",
      "(Initialized a data set object containing 1 simulation of length 9246)\n",
      "(Initialized a data set object containing 1 simulation of length 2819)\n",
      "(Initialized a data set object containing 1 simulation of length 2819)\n",
      "(Initialized a data set object containing 1 simulation of length 2819)\n",
      "(Initialized a data set object containing 1 simulation of length 16507)\n",
      "(Initialized a data set object containing 1 simulation of length 16507)\n",
      "(Initialized a data set object containing 1 simulation of length 16507)\n",
      "(Initialized a data set object containing 1 simulation of length 2422)\n",
      "(Initialized a data set object containing 1 simulation of length 2422)\n",
      "(Initialized a data set object containing 1 simulation of length 2422)\n",
      "(Initialized a data set object containing 1 simulation of length 4821)\n",
      "(Initialized a data set object containing 1 simulation of length 4821)\n",
      "(Initialized a data set object containing 1 simulation of length 4821)\n",
      "(Initialized a data set object containing 1 simulation of length 11434)\n",
      "(Initialized a data set object containing 1 simulation of length 11434)\n",
      "(Initialized a data set object containing 1 simulation of length 11434)\n"
     ]
    }
   ],
   "source": [
    "\"\"\" So what I'm doing here is generating reaction coordinates and performing simulations \n",
    "for each of coordinates. I am currently generating a bunch of single well potentials \n",
    "and 1 double well potential (initial state at transition state)\"\"\"\n",
    "\n",
    "\"\"\" I basically run a simulation in the double well (Started at TS) and I \n",
    "terminate the run when the system is in one of the stable states. I then\n",
    "run a simulation of the single well coordinates for an equal number of\n",
    "time steps.\"\"\"\n",
    "\n",
    "simulation_data = [ ] # initialise list to hold my data\n",
    "num_of_sims_pc = 30 # number of simulations to run per coordinate\n",
    "num_of_coors = 3 # number of coordinates\n",
    "\n",
    "numstates = 200 # number of states along each coordinate\n",
    "\n",
    "T = 50000 # maximum number of timesteps to run simulation for (not really important)\n",
    "\n",
    "time_step = 0.005 \n",
    "\"\"\" timestep of the simulation (just a matter of scaling how many steps we stay in the \n",
    "transition state for) \"\"\" \n",
    "\n",
    "initstate = int(numstates/2) # my simulations initial state is the middle one\n",
    "\n",
    "\"\"\" Here I'm just defining a list of states which I call 'out'. When the double well\n",
    "simulation enters one of these states I terminate the run. Currently I have the first\n",
    "and last 30% of the states. \"\"\"\n",
    "term_val1=np.linspace(1,(3/10)*numstates,(3/10)*numstates)\n",
    "term_val1=[int(x) for x in term_val1]\n",
    "term_val2=np.linspace(numstates+1-(3/10)*numstates,200,(3/10)*numstates)\n",
    "term_val2=[int(x) for x in term_val2]\n",
    "term_val = term_val1 + term_val2\n",
    "\n",
    "# This a loop to actually generate all my simulation data\n",
    "for i in range(num_of_sims_pc):\n",
    "    # define a simulation object in a given potential with a particular biasing force\n",
    "    sim=tsg.simulation(potential='double_well',sim_length=T,term=term_val,dt=time_step,biasing_protocol=[0,1],num_of_states=numstates,T=300, initial_state = initstate)\n",
    "    simulation_data.append(sim.generate_limited_data())\n",
    "    sim_length_tmp = len(simulation_data[-1].data)\n",
    "    for j in range(num_of_coors-1):\n",
    "        sim=tsg.simulation(potential='single_well',sim_length=sim_length_tmp,term=term_val,dt=time_step,biasing_protocol=[0,1],num_of_states=numstates,T=300, initial_state = initstate)\n",
    "        simulation_data.append(sim.generate_data())"
   ]
  },
  {
   "cell_type": "markdown",
   "metadata": {},
   "source": [
    "# Identifying in vs. out\n",
    "I'm going to go through the slow coordinates and identify which of the metastable states they went in to. I'll then take the first X frames of each trajectory and try to make a prediction based on that."
   ]
  },
  {
   "cell_type": "code",
   "execution_count": 14,
   "metadata": {},
   "outputs": [],
   "source": [
    "\"\"\" This is a bit convoluted but basically result_val is a list of 0 and 1 based on\n",
    "whether the double well trajectory went in or out. \"\"\"\n",
    "slow = np.linspace(0,(num_of_coors)*(num_of_sims_pc-1),num_of_sims_pc)\n",
    "slow = [int(x) for x in slow]\n",
    "\n",
    "result_val = []\n",
    "for i in slow:\n",
    "    #print(simulation_data[i].data[-1])\n",
    "    if simulation_data[i].data[-1] <= term_val1[-1]:\n",
    "        result_val.append(0)\n",
    "    elif simulation_data[i].data[-1] >= term_val2[0]:\n",
    "        result_val.append(1)\n",
    "result_val = [int(x) for x in result_val]"
   ]
  },
  {
   "cell_type": "code",
   "execution_count": 15,
   "metadata": {},
   "outputs": [],
   "source": [
    "\"\"\" Next I take the frist one thousand frames of each trajectory and assign it a 0 or 1\n",
    "depending on whether it eventually went in or out. \"\"\"\n",
    "\n",
    "X = []\n",
    "Y = []\n",
    "\n",
    "num_frames = 1000\n",
    "\n",
    "for i in range(num_of_coors):\n",
    "    tmp = []\n",
    "    for j in range(num_of_sims_pc):\n",
    "        tmp = tmp + simulation_data[num_of_coors*j+i].data[:num_frames]\n",
    "    X.append(tmp)\n",
    "for j in range(num_of_sims_pc):\n",
    "    Y = Y + ([result_val[j]]*num_frames)\n",
    "    \n",
    "X = np.array(X)\n",
    "X = X.transpose() \n",
    "Y = np.array(Y)"
   ]
  },
  {
   "cell_type": "markdown",
   "metadata": {},
   "source": [
    "## ML algorithms\n",
    "\n",
    "Now that I have my data I can start training a model to make predictions.\n",
    "I need to split in to test and train."
   ]
  },
  {
   "cell_type": "code",
   "execution_count": 16,
   "metadata": {},
   "outputs": [],
   "source": [
    "from sklearn.model_selection import train_test_split\n",
    "X_train, X_test, y_train, y_test = train_test_split(X, Y, test_size=0.4)"
   ]
  },
  {
   "cell_type": "markdown",
   "metadata": {},
   "source": [
    "### Neural network\n",
    "\n",
    "Let's try a neural network to do the prediction."
   ]
  },
  {
   "cell_type": "code",
   "execution_count": 17,
   "metadata": {},
   "outputs": [],
   "source": [
    "from sklearn.neural_network import MLPClassifier\n",
    "\n",
    "mlp = MLPClassifier(max_iter=200, shuffle=True)\n",
    "\n",
    "neural_network = mlp.fit(X_train,y_train) \n",
    "\n",
    "#Do the predictions for the X_test\n",
    "\n",
    "y_predicted = neural_network.predict(X_test)\n",
    "\n",
    "#The results are the difference between the y_test set and the final prediction\n",
    "\n",
    "results = y_test == y_predicted"
   ]
  },
  {
   "cell_type": "code",
   "execution_count": 18,
   "metadata": {},
   "outputs": [
    {
     "data": {
      "text/plain": [
       "0.7660833333333333"
      ]
     },
     "execution_count": 18,
     "metadata": {},
     "output_type": "execute_result"
    }
   ],
   "source": [
    "np.sum(results)/len(results)"
   ]
  },
  {
   "cell_type": "markdown",
   "metadata": {},
   "source": [
    "### Logistic regression\n",
    "\n",
    "Next let's try a logistic regression (basically linear regression but for classification)."
   ]
  },
  {
   "cell_type": "code",
   "execution_count": 19,
   "metadata": {},
   "outputs": [
    {
     "data": {
      "text/plain": [
       "0.8361666666666666"
      ]
     },
     "execution_count": 19,
     "metadata": {},
     "output_type": "execute_result"
    }
   ],
   "source": [
    "from sklearn.linear_model import LogisticRegression\n",
    "clf = LogisticRegression(random_state=0, solver='lbfgs', multi_class='ovr').fit(X_train, y_train)\n",
    "clf.score(X_test,y_test)"
   ]
  },
  {
   "cell_type": "code",
   "execution_count": 20,
   "metadata": {},
   "outputs": [
    {
     "data": {
      "text/plain": [
       "array([ 0.45405807, -0.05508962,  0.09918702])"
      ]
     },
     "execution_count": 20,
     "metadata": {},
     "output_type": "execute_result"
    }
   ],
   "source": [
    "\"\"\" These coefficients give the relative importance of each coordinate in making\n",
    "the prediction. \"\"\"\n",
    "\n",
    "clf.coef_[0]"
   ]
  },
  {
   "cell_type": "markdown",
   "metadata": {},
   "source": [
    "## 2-D potential with significant fast degree of freedom\n",
    "\n",
    "I want to set up a 2-D potential which has a fast degree of freedom which becomes relevant at the transition state. I want to distinguish that general simulations which explore the landscape won't identify an important fast degree of freedom but that simulations started in the transition state and assigned based on which state it enters first."
   ]
  },
  {
   "cell_type": "code",
   "execution_count": null,
   "metadata": {},
   "outputs": [],
   "source": []
  }
 ],
 "metadata": {
  "kernelspec": {
   "display_name": "Python 3",
   "language": "python",
   "name": "python3"
  },
  "language_info": {
   "codemirror_mode": {
    "name": "ipython",
    "version": 3
   },
   "file_extension": ".py",
   "mimetype": "text/x-python",
   "name": "python",
   "nbconvert_exporter": "python",
   "pygments_lexer": "ipython3",
   "version": "3.6.5"
  }
 },
 "nbformat": 4,
 "nbformat_minor": 2
}
